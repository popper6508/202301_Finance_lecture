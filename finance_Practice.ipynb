{
 "cells": [
  {
   "cell_type": "code",
   "execution_count": 1,
   "metadata": {},
   "outputs": [],
   "source": [
    "import pandas as pd\n",
    "import numpy as np\n",
    "import scipy as scp"
   ]
  },
  {
   "attachments": {},
   "cell_type": "markdown",
   "metadata": {},
   "source": [
    "Simple Present Value and Future Value"
   ]
  },
  {
   "cell_type": "code",
   "execution_count": 7,
   "metadata": {},
   "outputs": [],
   "source": [
    "def pv_cal(term) :\n",
    "\n",
    "    que = input(\"Repetitive Interest Rate?(Y/N)\")\n",
    "\n",
    "    if (que == \"Y\")|(que == \"y\") :\n",
    "        x = float(input(\"interest rate : \"))\n",
    "        y = float(input(\"cash flow : \"))\n",
    "\n",
    "        result = y * (1-(1/(1+x)**term))/(1-(1/(1+x)))\n",
    "    \n",
    "        return term, x, y, result\n",
    "\n",
    "    else: \n",
    "        interst_rate = []\n",
    "        cash_flow = []\n",
    "\n",
    "        for i in range(term) :\n",
    "            x = float(input(str(i+1)+\"term interest rate : \"))\n",
    "            x = 1/(1+x)**(i+1)\n",
    "            interst_rate.append(x)\n",
    "\n",
    "        for j in range(term) :\n",
    "            y = float(input(str(j+1)+\"term cash flow : \"))\n",
    "            cash_flow.append(y)\n",
    "\n",
    "        result = np.dot(interst_rate, cash_flow)\n",
    "\n",
    "        return result"
   ]
  },
  {
   "attachments": {},
   "cell_type": "markdown",
   "metadata": {},
   "source": [
    "Making Function for many types of bonds"
   ]
  },
  {
   "cell_type": "code",
   "execution_count": 10,
   "metadata": {},
   "outputs": [],
   "source": [
    "def am_lo_spe(set_term, real_term, interest, loan) : \n",
    "    mon_inter = interest/12\n",
    "    fix_pay = loan/(1-(1/((1+mon_inter)**(set_term*12))))/mon_inter\n",
    "    left_matu = fix_pay*(1-(1/((1+mon_inter)**((set_term-real_term)*12))))/mon_inter\n",
    "\n",
    "    return fix_pay, left_matu\n",
    "\n",
    "def am_lo2(term, interest, loan) :\n",
    "    fix_pay = interest*loan/(1-(1/((1+interest)**(term))))\n",
    "    loan_prin_tem = loan\n",
    "    begin = []\n",
    "    inter_paid = []\n",
    "    prin_paid = []\n",
    "    ending = []\n",
    "\n",
    "    for i in range(term) :\n",
    "        begin.append(loan_prin_tem)\n",
    "        inter_paid.append(loan_prin_tem*interest)\n",
    "        loan_tem = fix_pay - loan_prin_tem*interest\n",
    "        prin_paid.append(loan_tem)\n",
    "        loan_prin_tem = loan_prin_tem - loan_tem\n",
    "        endterm = begin[i] - loan_tem\n",
    "        ending.append(endterm)\n",
    "\n",
    "    fix_pay = np.repeat(fix_pay, term)\n",
    "\n",
    "    test_table = pd.DataFrame()\n",
    "    j = 0\n",
    "    for i in [begin, fix_pay, inter_paid, prin_paid, ending] :\n",
    "        list_1 = [\"Begenning Balance\", \"Total Payment\", \"Interest Paid\", \"Principal Paid\", \"Ending Balance\"]\n",
    "        test_table[list_1[j]] = i\n",
    "        j += 1\n",
    "\n",
    "        test_table.iloc[5,:] = test_table.sum(axis=1)\n",
    "\n",
    "    return test_table"
   ]
  },
  {
   "attachments": {},
   "cell_type": "markdown",
   "metadata": {},
   "source": [
    "Funtion Test"
   ]
  },
  {
   "cell_type": "code",
   "execution_count": 15,
   "metadata": {},
   "outputs": [
    {
     "data": {
      "text/plain": [
       "Begenning Balance    15859.015821\n",
       "Total Payment         6427.311424\n",
       "Interest Paid         1427.311424\n",
       "Principal Paid        5000.000000\n",
       "Ending Balance       10859.015821\n",
       "dtype: float64"
      ]
     },
     "execution_count": 15,
     "metadata": {},
     "output_type": "execute_result"
    }
   ],
   "source": [
    "am_lo2(5, 0.09, 5000)"
   ]
  },
  {
   "cell_type": "code",
   "execution_count": 9,
   "metadata": {},
   "outputs": [
    {
     "data": {
      "text/plain": [
       "5622.520127756234"
      ]
     },
     "execution_count": 9,
     "metadata": {},
     "output_type": "execute_result"
    }
   ],
   "source": [
    "pv_cal(3)"
   ]
  },
  {
   "attachments": {},
   "cell_type": "markdown",
   "metadata": {},
   "source": [
    "Prototype for Stock Valuation"
   ]
  },
  {
   "cell_type": "code",
   "execution_count": 5,
   "metadata": {},
   "outputs": [
    {
     "data": {
      "text/plain": [
       "123572.9474669665"
      ]
     },
     "execution_count": 5,
     "metadata": {},
     "output_type": "execute_result"
    }
   ],
   "source": [
    "def se_val(term, present, expectation, growth, interest) :\n",
    "    divd1 = present*expectation\n",
    "    valuation = divd1 * (((1+growth)/(1+interest))**term-1)/((1+growth)/(1+interest)-1)\n",
    "    return valuation\n",
    "\n",
    "se_val(10, 48000, 0.03, 0.5, 0.04)"
   ]
  },
  {
   "cell_type": "code",
   "execution_count": 17,
   "metadata": {},
   "outputs": [
    {
     "data": {
      "text/plain": [
       "0.03233092936751662"
      ]
     },
     "execution_count": 17,
     "metadata": {},
     "output_type": "execute_result"
    }
   ],
   "source": [
    "import numpy_financial as npf\n",
    "\n",
    "def ytm_cal() :\n",
    "    coupon_rate = float(input(\"Coupon rate : \"))\n",
    "    face_value = float(input(\"Face value : \"))\n",
    "    market_price = float(input(\"Market price : \"))\n",
    "    periods = float(input(\"Period : \"))\n",
    "    frequency = float(input(\"Frequency : \")) \n",
    "    ytm = npf.rate(periods * frequency, coupon_rate/frequency * face_value, -market_price, face_value, when='end')*frequency\n",
    "                                                                                                                                                                                                                                                                                                                                                                                                                                                                                                                                                                                                                                                                                                                                                                                                                                                                            \n",
    "    return ytm\n",
    "\n",
    "ytm_cal()"
   ]
  }
 ],
 "metadata": {
  "kernelspec": {
   "display_name": "base",
   "language": "python",
   "name": "python3"
  },
  "language_info": {
   "codemirror_mode": {
    "name": "ipython",
    "version": 3
   },
   "file_extension": ".py",
   "mimetype": "text/x-python",
   "name": "python",
   "nbconvert_exporter": "python",
   "pygments_lexer": "ipython3",
   "version": "3.9.13"
  },
  "orig_nbformat": 4
 },
 "nbformat": 4,
 "nbformat_minor": 2
}
